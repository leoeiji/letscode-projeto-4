{
 "cells": [
  {
   "cell_type": "markdown",
   "metadata": {},
   "source": [
    "## Projeto 04 - Ténicas de Programação II"
   ]
  },
  {
   "cell_type": "markdown",
   "metadata": {},
   "source": [
    "**Sobre o dataset**\n",
    "\n",
    "- Título: Personal Key Indicators of Heart Disease\n",
    "- Fonte: https://www.kaggle.com/datasets/kamilpytlak/personal-key-indicators-of-heart-disease\n",
    "\n",
    "**Variáveis**\n",
    "- HeartDisease: Os entrevistados que já relataram ter doença cardíaca coronária (DAC) ou infarto do miocárdio (IM).\n",
    "- BMI: Índice de Massa Corporal (IMC).\n",
    "- Smoking: Você fumou pelo menos 100 cigarros em toda a sua vida?\n",
    "- AlcoholDrinking: bebedores pesados ​​(homens adultos que bebem mais de 14 bebidas por semana e mulheres adultas que bebem mais de 7 bebidas por semana\n",
    "- Stroke: (Já disse ter) (você teve) um derrame?\n",
    "- PhysicalHealth: Agora, pensando em sua saúde física, que inclui doenças e lesões físicas, por quantos dias nos últimos 30 dias sua saúde física não foi boa? (0-30 dias).\n",
    "- MentalHealth: Pensando em sua saúde mental, por quantos dias nos últimos 30 dias sua saúde mental não foi boa? (0-30 dias).\n",
    "- DiffWalking: Você tem sérias dificuldades para caminhar ou subir escadas?\n",
    "- Sex: Você é homem ou mulher?\n",
    "- AgeCategory: categoria de idade de quatorze níveis. (então calculou a média)\n",
    "- Race: valor de raça/etnia imputado.\n",
    "- Diabetic: (Já disse ter) (você tinha) diabetes?\n",
    "- PhysicalActivity: Adultos que relataram ter feito atividade física ou exercício nos últimos 30 dias fora do trabalho regular.\n",
    "- GenHealth: Você diria que em geral sua saúde é...\n",
    "- SleepTime: Em média, quantas horas de sono você dorme em um período de 24 horas?\n",
    "- Asthma: (Já disse ter) (você teve) asma?\n",
    "- KidneyDisease: Não incluindo cálculos renais, infecção da bexiga ou incontinência, você já foi informado de que tinha doença renal?\n",
    "- SkinCancer: (Já disse ter) (você teve) câncer de pele?\n",
    "\n",
    "**Perguntas**\n",
    "1. Quais variáveis mais influenciam doenças do coração?\n",
    "2. Pessoas que fazem mais exercícios físicos têm menos chances de ter doenças cardíacas ou derrames?"
   ]
  },
  {
   "cell_type": "code",
   "execution_count": 181,
   "metadata": {},
   "outputs": [],
   "source": [
    "import pandas as pd\n",
    "import numpy as np\n",
    "import matplotlib.pyplot as plt\n",
    "import seaborn as sns\n",
    "import plotly.express as px\n",
    "from collections import Counter\n",
    "from sklearn.preprocessing import LabelEncoder\n",
    "import plotly.graph_objects as go\n",
    "from plotly.subplots import make_subplots\n",
    "from statsmodels.graphics.gofplots import qqplot\n",
    "sns.set_style('whitegrid')\n",
    "plt.rcParams['figure.dpi']=100"
   ]
  },
  {
   "cell_type": "code",
   "execution_count": 208,
   "metadata": {},
   "outputs": [],
   "source": [
    "heartdata = pd.read_csv(\"./data/heart_2020_cleaned.csv\")"
   ]
  },
  {
   "cell_type": "code",
   "execution_count": 183,
   "metadata": {},
   "outputs": [],
   "source": [
    "pd.set_option('display.max_columns', None)\n",
    "pd.set_option('display.max_rows', None)"
   ]
  },
  {
   "cell_type": "code",
   "execution_count": 184,
   "metadata": {},
   "outputs": [
    {
     "data": {
      "text/html": [
       "<style type=\"text/css\">\n",
       "#T_df3d6_row0_col1, #T_df3d6_row0_col14, #T_df3d6_row1_col5, #T_df3d6_row1_col6, #T_df3d6_row3_col5, #T_df3d6_row3_col6, #T_df3d6_row4_col6 {\n",
       "  background-color: #ffffff;\n",
       "  color: #000000;\n",
       "}\n",
       "#T_df3d6_row0_col5 {\n",
       "  background-color: #f2f2f2;\n",
       "  color: #000000;\n",
       "}\n",
       "#T_df3d6_row0_col6, #T_df3d6_row2_col1, #T_df3d6_row2_col6, #T_df3d6_row2_col14, #T_df3d6_row4_col5, #T_df3d6_row4_col14 {\n",
       "  background-color: #000000;\n",
       "  color: #f1f1f1;\n",
       "}\n",
       "#T_df3d6_row1_col1 {\n",
       "  background-color: #bebebe;\n",
       "  color: #000000;\n",
       "}\n",
       "#T_df3d6_row1_col14 {\n",
       "  background-color: #686868;\n",
       "  color: #f1f1f1;\n",
       "}\n",
       "#T_df3d6_row2_col5, #T_df3d6_row4_col1 {\n",
       "  background-color: #5c5c5c;\n",
       "  color: #f1f1f1;\n",
       "}\n",
       "#T_df3d6_row3_col1 {\n",
       "  background-color: #4d4d4d;\n",
       "  color: #f1f1f1;\n",
       "}\n",
       "#T_df3d6_row3_col14 {\n",
       "  background-color: #c6c6c6;\n",
       "  color: #000000;\n",
       "}\n",
       "</style>\n",
       "<table id=\"T_df3d6\">\n",
       "  <thead>\n",
       "    <tr>\n",
       "      <th id=\"T_df3d6_level0_col0\" class=\"col_heading level0 col0\" >HeartDisease</th>\n",
       "      <th id=\"T_df3d6_level0_col1\" class=\"col_heading level0 col1\" >BMI</th>\n",
       "      <th id=\"T_df3d6_level0_col2\" class=\"col_heading level0 col2\" >Smoking</th>\n",
       "      <th id=\"T_df3d6_level0_col3\" class=\"col_heading level0 col3\" >AlcoholDrinking</th>\n",
       "      <th id=\"T_df3d6_level0_col4\" class=\"col_heading level0 col4\" >Stroke</th>\n",
       "      <th id=\"T_df3d6_level0_col5\" class=\"col_heading level0 col5\" >PhysicalHealth</th>\n",
       "      <th id=\"T_df3d6_level0_col6\" class=\"col_heading level0 col6\" >MentalHealth</th>\n",
       "      <th id=\"T_df3d6_level0_col7\" class=\"col_heading level0 col7\" >DiffWalking</th>\n",
       "      <th id=\"T_df3d6_level0_col8\" class=\"col_heading level0 col8\" >Sex</th>\n",
       "      <th id=\"T_df3d6_level0_col9\" class=\"col_heading level0 col9\" >AgeCategory</th>\n",
       "      <th id=\"T_df3d6_level0_col10\" class=\"col_heading level0 col10\" >Race</th>\n",
       "      <th id=\"T_df3d6_level0_col11\" class=\"col_heading level0 col11\" >Diabetic</th>\n",
       "      <th id=\"T_df3d6_level0_col12\" class=\"col_heading level0 col12\" >PhysicalActivity</th>\n",
       "      <th id=\"T_df3d6_level0_col13\" class=\"col_heading level0 col13\" >GenHealth</th>\n",
       "      <th id=\"T_df3d6_level0_col14\" class=\"col_heading level0 col14\" >SleepTime</th>\n",
       "      <th id=\"T_df3d6_level0_col15\" class=\"col_heading level0 col15\" >Asthma</th>\n",
       "      <th id=\"T_df3d6_level0_col16\" class=\"col_heading level0 col16\" >KidneyDisease</th>\n",
       "      <th id=\"T_df3d6_level0_col17\" class=\"col_heading level0 col17\" >SkinCancer</th>\n",
       "    </tr>\n",
       "  </thead>\n",
       "  <tbody>\n",
       "    <tr>\n",
       "      <td id=\"T_df3d6_row0_col0\" class=\"data row0 col0\" >No</td>\n",
       "      <td id=\"T_df3d6_row0_col1\" class=\"data row0 col1\" >16.600000</td>\n",
       "      <td id=\"T_df3d6_row0_col2\" class=\"data row0 col2\" >Yes</td>\n",
       "      <td id=\"T_df3d6_row0_col3\" class=\"data row0 col3\" >No</td>\n",
       "      <td id=\"T_df3d6_row0_col4\" class=\"data row0 col4\" >No</td>\n",
       "      <td id=\"T_df3d6_row0_col5\" class=\"data row0 col5\" >3.000000</td>\n",
       "      <td id=\"T_df3d6_row0_col6\" class=\"data row0 col6\" >30.000000</td>\n",
       "      <td id=\"T_df3d6_row0_col7\" class=\"data row0 col7\" >No</td>\n",
       "      <td id=\"T_df3d6_row0_col8\" class=\"data row0 col8\" >Female</td>\n",
       "      <td id=\"T_df3d6_row0_col9\" class=\"data row0 col9\" >55-59</td>\n",
       "      <td id=\"T_df3d6_row0_col10\" class=\"data row0 col10\" >White</td>\n",
       "      <td id=\"T_df3d6_row0_col11\" class=\"data row0 col11\" >Yes</td>\n",
       "      <td id=\"T_df3d6_row0_col12\" class=\"data row0 col12\" >Yes</td>\n",
       "      <td id=\"T_df3d6_row0_col13\" class=\"data row0 col13\" >Very good</td>\n",
       "      <td id=\"T_df3d6_row0_col14\" class=\"data row0 col14\" >5.000000</td>\n",
       "      <td id=\"T_df3d6_row0_col15\" class=\"data row0 col15\" >Yes</td>\n",
       "      <td id=\"T_df3d6_row0_col16\" class=\"data row0 col16\" >No</td>\n",
       "      <td id=\"T_df3d6_row0_col17\" class=\"data row0 col17\" >Yes</td>\n",
       "    </tr>\n",
       "    <tr>\n",
       "      <td id=\"T_df3d6_row1_col0\" class=\"data row1 col0\" >No</td>\n",
       "      <td id=\"T_df3d6_row1_col1\" class=\"data row1 col1\" >20.340000</td>\n",
       "      <td id=\"T_df3d6_row1_col2\" class=\"data row1 col2\" >No</td>\n",
       "      <td id=\"T_df3d6_row1_col3\" class=\"data row1 col3\" >No</td>\n",
       "      <td id=\"T_df3d6_row1_col4\" class=\"data row1 col4\" >Yes</td>\n",
       "      <td id=\"T_df3d6_row1_col5\" class=\"data row1 col5\" >0.000000</td>\n",
       "      <td id=\"T_df3d6_row1_col6\" class=\"data row1 col6\" >0.000000</td>\n",
       "      <td id=\"T_df3d6_row1_col7\" class=\"data row1 col7\" >No</td>\n",
       "      <td id=\"T_df3d6_row1_col8\" class=\"data row1 col8\" >Female</td>\n",
       "      <td id=\"T_df3d6_row1_col9\" class=\"data row1 col9\" >80 or older</td>\n",
       "      <td id=\"T_df3d6_row1_col10\" class=\"data row1 col10\" >White</td>\n",
       "      <td id=\"T_df3d6_row1_col11\" class=\"data row1 col11\" >No</td>\n",
       "      <td id=\"T_df3d6_row1_col12\" class=\"data row1 col12\" >Yes</td>\n",
       "      <td id=\"T_df3d6_row1_col13\" class=\"data row1 col13\" >Very good</td>\n",
       "      <td id=\"T_df3d6_row1_col14\" class=\"data row1 col14\" >7.000000</td>\n",
       "      <td id=\"T_df3d6_row1_col15\" class=\"data row1 col15\" >No</td>\n",
       "      <td id=\"T_df3d6_row1_col16\" class=\"data row1 col16\" >No</td>\n",
       "      <td id=\"T_df3d6_row1_col17\" class=\"data row1 col17\" >No</td>\n",
       "    </tr>\n",
       "    <tr>\n",
       "      <td id=\"T_df3d6_row2_col0\" class=\"data row2 col0\" >No</td>\n",
       "      <td id=\"T_df3d6_row2_col1\" class=\"data row2 col1\" >26.580000</td>\n",
       "      <td id=\"T_df3d6_row2_col2\" class=\"data row2 col2\" >Yes</td>\n",
       "      <td id=\"T_df3d6_row2_col3\" class=\"data row2 col3\" >No</td>\n",
       "      <td id=\"T_df3d6_row2_col4\" class=\"data row2 col4\" >No</td>\n",
       "      <td id=\"T_df3d6_row2_col5\" class=\"data row2 col5\" >20.000000</td>\n",
       "      <td id=\"T_df3d6_row2_col6\" class=\"data row2 col6\" >30.000000</td>\n",
       "      <td id=\"T_df3d6_row2_col7\" class=\"data row2 col7\" >No</td>\n",
       "      <td id=\"T_df3d6_row2_col8\" class=\"data row2 col8\" >Male</td>\n",
       "      <td id=\"T_df3d6_row2_col9\" class=\"data row2 col9\" >65-69</td>\n",
       "      <td id=\"T_df3d6_row2_col10\" class=\"data row2 col10\" >White</td>\n",
       "      <td id=\"T_df3d6_row2_col11\" class=\"data row2 col11\" >Yes</td>\n",
       "      <td id=\"T_df3d6_row2_col12\" class=\"data row2 col12\" >Yes</td>\n",
       "      <td id=\"T_df3d6_row2_col13\" class=\"data row2 col13\" >Fair</td>\n",
       "      <td id=\"T_df3d6_row2_col14\" class=\"data row2 col14\" >8.000000</td>\n",
       "      <td id=\"T_df3d6_row2_col15\" class=\"data row2 col15\" >Yes</td>\n",
       "      <td id=\"T_df3d6_row2_col16\" class=\"data row2 col16\" >No</td>\n",
       "      <td id=\"T_df3d6_row2_col17\" class=\"data row2 col17\" >No</td>\n",
       "    </tr>\n",
       "    <tr>\n",
       "      <td id=\"T_df3d6_row3_col0\" class=\"data row3 col0\" >No</td>\n",
       "      <td id=\"T_df3d6_row3_col1\" class=\"data row3 col1\" >24.210000</td>\n",
       "      <td id=\"T_df3d6_row3_col2\" class=\"data row3 col2\" >No</td>\n",
       "      <td id=\"T_df3d6_row3_col3\" class=\"data row3 col3\" >No</td>\n",
       "      <td id=\"T_df3d6_row3_col4\" class=\"data row3 col4\" >No</td>\n",
       "      <td id=\"T_df3d6_row3_col5\" class=\"data row3 col5\" >0.000000</td>\n",
       "      <td id=\"T_df3d6_row3_col6\" class=\"data row3 col6\" >0.000000</td>\n",
       "      <td id=\"T_df3d6_row3_col7\" class=\"data row3 col7\" >No</td>\n",
       "      <td id=\"T_df3d6_row3_col8\" class=\"data row3 col8\" >Female</td>\n",
       "      <td id=\"T_df3d6_row3_col9\" class=\"data row3 col9\" >75-79</td>\n",
       "      <td id=\"T_df3d6_row3_col10\" class=\"data row3 col10\" >White</td>\n",
       "      <td id=\"T_df3d6_row3_col11\" class=\"data row3 col11\" >No</td>\n",
       "      <td id=\"T_df3d6_row3_col12\" class=\"data row3 col12\" >No</td>\n",
       "      <td id=\"T_df3d6_row3_col13\" class=\"data row3 col13\" >Good</td>\n",
       "      <td id=\"T_df3d6_row3_col14\" class=\"data row3 col14\" >6.000000</td>\n",
       "      <td id=\"T_df3d6_row3_col15\" class=\"data row3 col15\" >No</td>\n",
       "      <td id=\"T_df3d6_row3_col16\" class=\"data row3 col16\" >No</td>\n",
       "      <td id=\"T_df3d6_row3_col17\" class=\"data row3 col17\" >Yes</td>\n",
       "    </tr>\n",
       "    <tr>\n",
       "      <td id=\"T_df3d6_row4_col0\" class=\"data row4 col0\" >No</td>\n",
       "      <td id=\"T_df3d6_row4_col1\" class=\"data row4 col1\" >23.710000</td>\n",
       "      <td id=\"T_df3d6_row4_col2\" class=\"data row4 col2\" >No</td>\n",
       "      <td id=\"T_df3d6_row4_col3\" class=\"data row4 col3\" >No</td>\n",
       "      <td id=\"T_df3d6_row4_col4\" class=\"data row4 col4\" >No</td>\n",
       "      <td id=\"T_df3d6_row4_col5\" class=\"data row4 col5\" >28.000000</td>\n",
       "      <td id=\"T_df3d6_row4_col6\" class=\"data row4 col6\" >0.000000</td>\n",
       "      <td id=\"T_df3d6_row4_col7\" class=\"data row4 col7\" >Yes</td>\n",
       "      <td id=\"T_df3d6_row4_col8\" class=\"data row4 col8\" >Female</td>\n",
       "      <td id=\"T_df3d6_row4_col9\" class=\"data row4 col9\" >40-44</td>\n",
       "      <td id=\"T_df3d6_row4_col10\" class=\"data row4 col10\" >White</td>\n",
       "      <td id=\"T_df3d6_row4_col11\" class=\"data row4 col11\" >No</td>\n",
       "      <td id=\"T_df3d6_row4_col12\" class=\"data row4 col12\" >Yes</td>\n",
       "      <td id=\"T_df3d6_row4_col13\" class=\"data row4 col13\" >Very good</td>\n",
       "      <td id=\"T_df3d6_row4_col14\" class=\"data row4 col14\" >8.000000</td>\n",
       "      <td id=\"T_df3d6_row4_col15\" class=\"data row4 col15\" >No</td>\n",
       "      <td id=\"T_df3d6_row4_col16\" class=\"data row4 col16\" >No</td>\n",
       "      <td id=\"T_df3d6_row4_col17\" class=\"data row4 col17\" >No</td>\n",
       "    </tr>\n",
       "  </tbody>\n",
       "</table>\n"
      ],
      "text/plain": [
       "<pandas.io.formats.style.Styler at 0x7fe79ed5f5e0>"
      ]
     },
     "execution_count": 184,
     "metadata": {},
     "output_type": "execute_result"
    }
   ],
   "source": [
    "heartdata.head().style.background_gradient(cmap='Greys').hide(axis='index')"
   ]
  },
  {
   "cell_type": "code",
   "execution_count": 185,
   "metadata": {},
   "outputs": [
    {
     "name": "stdout",
     "output_type": "stream",
     "text": [
      "Rows:\u001b[1m 319795\n",
      "\u001b[0mColumns:\u001b[1m 18\n",
      "\u001b[1mDetails\u001b[0m\n",
      "<class 'pandas.core.frame.DataFrame'>\n",
      "RangeIndex: 319795 entries, 0 to 319794\n",
      "Data columns (total 18 columns):\n",
      " #   Column            Non-Null Count   Dtype  \n",
      "---  ------            --------------   -----  \n",
      " 0   HeartDisease      319795 non-null  object \n",
      " 1   BMI               319795 non-null  float64\n",
      " 2   Smoking           319795 non-null  object \n",
      " 3   AlcoholDrinking   319795 non-null  object \n",
      " 4   Stroke            319795 non-null  object \n",
      " 5   PhysicalHealth    319795 non-null  float64\n",
      " 6   MentalHealth      319795 non-null  float64\n",
      " 7   DiffWalking       319795 non-null  object \n",
      " 8   Sex               319795 non-null  object \n",
      " 9   AgeCategory       319795 non-null  object \n",
      " 10  Race              319795 non-null  object \n",
      " 11  Diabetic          319795 non-null  object \n",
      " 12  PhysicalActivity  319795 non-null  object \n",
      " 13  GenHealth         319795 non-null  object \n",
      " 14  SleepTime         319795 non-null  float64\n",
      " 15  Asthma            319795 non-null  object \n",
      " 16  KidneyDisease     319795 non-null  object \n",
      " 17  SkinCancer        319795 non-null  object \n",
      "dtypes: float64(4), object(14)\n",
      "memory usage: 43.9+ MB\n"
     ]
    }
   ],
   "source": [
    "print('Rows:'+'\\033[1m', heartdata.shape[0])\n",
    "print('\\033[0m'+'Columns:'+'\\033[1m', heartdata.shape[1])\n",
    "print('\\033[1m'+'Details'+'\\033[0m')\n",
    "heartdata.info();"
   ]
  },
  {
   "cell_type": "markdown",
   "metadata": {},
   "source": [
    "### Showing all columns"
   ]
  },
  {
   "cell_type": "code",
   "execution_count": 195,
   "metadata": {},
   "outputs": [
    {
     "data": {
      "text/html": [
       "<div>\n",
       "<style scoped>\n",
       "    .dataframe tbody tr th:only-of-type {\n",
       "        vertical-align: middle;\n",
       "    }\n",
       "\n",
       "    .dataframe tbody tr th {\n",
       "        vertical-align: top;\n",
       "    }\n",
       "\n",
       "    .dataframe thead th {\n",
       "        text-align: right;\n",
       "    }\n",
       "</style>\n",
       "<table border=\"1\" class=\"dataframe\">\n",
       "  <thead>\n",
       "    <tr style=\"text-align: right;\">\n",
       "      <th></th>\n",
       "      <th>HeartDisease</th>\n",
       "      <th>BMI</th>\n",
       "      <th>Smoking</th>\n",
       "      <th>AlcoholDrinking</th>\n",
       "      <th>Stroke</th>\n",
       "      <th>PhysicalHealth</th>\n",
       "      <th>MentalHealth</th>\n",
       "      <th>DiffWalking</th>\n",
       "      <th>Sex</th>\n",
       "      <th>AgeCategory</th>\n",
       "      <th>Race</th>\n",
       "      <th>Diabetic</th>\n",
       "      <th>PhysicalActivity</th>\n",
       "      <th>GenHealth</th>\n",
       "      <th>SleepTime</th>\n",
       "      <th>Asthma</th>\n",
       "      <th>KidneyDisease</th>\n",
       "      <th>SkinCancer</th>\n",
       "    </tr>\n",
       "  </thead>\n",
       "  <tbody>\n",
       "    <tr>\n",
       "      <th>0</th>\n",
       "      <td>False</td>\n",
       "      <td>16.60</td>\n",
       "      <td>True</td>\n",
       "      <td>False</td>\n",
       "      <td>False</td>\n",
       "      <td>3.0</td>\n",
       "      <td>30.0</td>\n",
       "      <td>False</td>\n",
       "      <td>Female</td>\n",
       "      <td>57.0</td>\n",
       "      <td>White</td>\n",
       "      <td>True</td>\n",
       "      <td>True</td>\n",
       "      <td>Very good</td>\n",
       "      <td>5.0</td>\n",
       "      <td>True</td>\n",
       "      <td>False</td>\n",
       "      <td>True</td>\n",
       "    </tr>\n",
       "    <tr>\n",
       "      <th>1</th>\n",
       "      <td>False</td>\n",
       "      <td>20.34</td>\n",
       "      <td>False</td>\n",
       "      <td>False</td>\n",
       "      <td>True</td>\n",
       "      <td>0.0</td>\n",
       "      <td>0.0</td>\n",
       "      <td>False</td>\n",
       "      <td>Female</td>\n",
       "      <td>80.0</td>\n",
       "      <td>White</td>\n",
       "      <td>False</td>\n",
       "      <td>True</td>\n",
       "      <td>Very good</td>\n",
       "      <td>7.0</td>\n",
       "      <td>False</td>\n",
       "      <td>False</td>\n",
       "      <td>False</td>\n",
       "    </tr>\n",
       "    <tr>\n",
       "      <th>2</th>\n",
       "      <td>False</td>\n",
       "      <td>26.58</td>\n",
       "      <td>True</td>\n",
       "      <td>False</td>\n",
       "      <td>False</td>\n",
       "      <td>20.0</td>\n",
       "      <td>30.0</td>\n",
       "      <td>False</td>\n",
       "      <td>Male</td>\n",
       "      <td>67.0</td>\n",
       "      <td>White</td>\n",
       "      <td>True</td>\n",
       "      <td>True</td>\n",
       "      <td>Fair</td>\n",
       "      <td>8.0</td>\n",
       "      <td>True</td>\n",
       "      <td>False</td>\n",
       "      <td>False</td>\n",
       "    </tr>\n",
       "    <tr>\n",
       "      <th>3</th>\n",
       "      <td>False</td>\n",
       "      <td>24.21</td>\n",
       "      <td>False</td>\n",
       "      <td>False</td>\n",
       "      <td>False</td>\n",
       "      <td>0.0</td>\n",
       "      <td>0.0</td>\n",
       "      <td>False</td>\n",
       "      <td>Female</td>\n",
       "      <td>77.0</td>\n",
       "      <td>White</td>\n",
       "      <td>False</td>\n",
       "      <td>False</td>\n",
       "      <td>Good</td>\n",
       "      <td>6.0</td>\n",
       "      <td>False</td>\n",
       "      <td>False</td>\n",
       "      <td>True</td>\n",
       "    </tr>\n",
       "    <tr>\n",
       "      <th>4</th>\n",
       "      <td>False</td>\n",
       "      <td>23.71</td>\n",
       "      <td>False</td>\n",
       "      <td>False</td>\n",
       "      <td>False</td>\n",
       "      <td>28.0</td>\n",
       "      <td>0.0</td>\n",
       "      <td>True</td>\n",
       "      <td>Female</td>\n",
       "      <td>42.0</td>\n",
       "      <td>White</td>\n",
       "      <td>False</td>\n",
       "      <td>True</td>\n",
       "      <td>Very good</td>\n",
       "      <td>8.0</td>\n",
       "      <td>False</td>\n",
       "      <td>False</td>\n",
       "      <td>False</td>\n",
       "    </tr>\n",
       "  </tbody>\n",
       "</table>\n",
       "</div>"
      ],
      "text/plain": [
       "   HeartDisease    BMI  Smoking  AlcoholDrinking  Stroke  PhysicalHealth  \\\n",
       "0         False  16.60     True            False   False             3.0   \n",
       "1         False  20.34    False            False    True             0.0   \n",
       "2         False  26.58     True            False   False            20.0   \n",
       "3         False  24.21    False            False   False             0.0   \n",
       "4         False  23.71    False            False   False            28.0   \n",
       "\n",
       "   MentalHealth  DiffWalking     Sex  AgeCategory   Race Diabetic  \\\n",
       "0          30.0        False  Female         57.0  White     True   \n",
       "1           0.0        False  Female         80.0  White    False   \n",
       "2          30.0        False    Male         67.0  White     True   \n",
       "3           0.0        False  Female         77.0  White    False   \n",
       "4           0.0         True  Female         42.0  White    False   \n",
       "\n",
       "   PhysicalActivity  GenHealth  SleepTime  Asthma  KidneyDisease  SkinCancer  \n",
       "0              True  Very good        5.0    True          False        True  \n",
       "1              True  Very good        7.0   False          False       False  \n",
       "2              True       Fair        8.0    True          False       False  \n",
       "3             False       Good        6.0   False          False        True  \n",
       "4              True  Very good        8.0   False          False       False  "
      ]
     },
     "execution_count": 195,
     "metadata": {},
     "output_type": "execute_result"
    }
   ],
   "source": [
    "# Trocando \"Yes\" por True e \"No\" por False\n",
    "def yes_no_bool(s: str):\n",
    "    if s == \"Yes\": return True\n",
    "    elif s == \"No\": return False\n",
    "    else: return s\n",
    "\n",
    "heartdata = heartdata.applymap(yes_no_bool)\n",
    "heartdata.head()"
   ]
  },
  {
   "cell_type": "code",
   "execution_count": 186,
   "metadata": {},
   "outputs": [
    {
     "name": "stdout",
     "output_type": "stream",
     "text": [
      "Standard Deviation PhysicalHealth:  7.95085018257456\n",
      "Standard Deviation SleepTime:  1.4360070609668765\n",
      "Standard Deviation MentalHealth:  7.955235218946832\n"
     ]
    }
   ],
   "source": [
    "print(\"Standard Deviation PhysicalHealth: \", heartdata['PhysicalHealth'].std())\n",
    "print(\"Standard Deviation SleepTime: \", heartdata['SleepTime'].std())\n",
    "print(\"Standard Deviation MentalHealth: \", heartdata['MentalHealth'].std())"
   ]
  },
  {
   "cell_type": "code",
   "execution_count": 187,
   "metadata": {},
   "outputs": [
    {
     "name": "stdout",
     "output_type": "stream",
     "text": [
      "Minimum BMI:  12.02\n",
      "Maximum BMI:  94.85\n"
     ]
    }
   ],
   "source": [
    "print(\"Minimum BMI: \", heartdata['BMI'].min())\n",
    "print(\"Maximum BMI: \", heartdata['BMI'].max())"
   ]
  },
  {
   "cell_type": "code",
   "execution_count": 189,
   "metadata": {},
   "outputs": [
    {
     "name": "stdout",
     "output_type": "stream",
     "text": [
      "Counter({'No': 292422, 'Yes': 27373})\n",
      "Counter({'No': 187887, 'Yes': 131908})\n",
      "Counter({'No': 298018, 'Yes': 21777})\n",
      "Counter({'No': 275385, 'Yes': 44410})\n",
      "Counter({'No': 269653, 'Yes': 40802, 'No, borderline diabetes': 6781, 'Yes (during pregnancy)': 2559})\n"
     ]
    }
   ],
   "source": [
    "print(Counter(heartdata['HeartDisease']))\n",
    "print(Counter(heartdata['Smoking']))\n",
    "print(Counter(heartdata['AlcoholDrinking']))\n",
    "print(Counter(heartdata['DiffWalking']))\n",
    "print(Counter(heartdata['Diabetic']))"
   ]
  },
  {
   "cell_type": "markdown",
   "metadata": {},
   "source": [
    "### Correlation \n",
    "##### >> Helps us measure both the direction and strength of the linear relationship between two variables"
   ]
  },
  {
   "cell_type": "code",
   "execution_count": 190,
   "metadata": {},
   "outputs": [
    {
     "data": {
      "image/png": "[encoded data removed]",
      "text/plain": [
       "<Figure size 1600x800 with 2 Axes>"
      ]
     },
     "metadata": {},
     "output_type": "display_data"
    }
   ],
   "source": [
    "sns.heatmap(heartdata.corr());"
   ]
  },
  {
   "cell_type": "code",
   "execution_count": 191,
   "metadata": {},
   "outputs": [],
   "source": [
    "age_mapper = {'55-59':57, \n",
    "              '80 or older':80, \n",
    "              '65-69':67,\n",
    "              '75-79':77,\n",
    "              '40-44':42,\n",
    "              '70-74':72,\n",
    "              '60-64':62,\n",
    "              '50-54':52,\n",
    "              '45-49':47,\n",
    "              '18-24':21,\n",
    "              '35-39':37,\n",
    "              '30-34':32,\n",
    "              '25-29':27}"
   ]
  },
  {
   "cell_type": "markdown",
   "metadata": {},
   "source": [
    "#### Replacing feature values with scale"
   ]
  },
  {
   "cell_type": "code",
   "execution_count": 192,
   "metadata": {},
   "outputs": [],
   "source": [
    "# Replace feature values with scale\n",
    "heartdata[\"AgeCategory\"] = heartdata[\"AgeCategory\"].replace(age_mapper)\n",
    "heartdata['AgeCategory'] = heartdata['AgeCategory'].astype('float')\n"
   ]
  },
  {
   "cell_type": "code",
   "execution_count": 193,
   "metadata": {},
   "outputs": [
    {
     "name": "stdout",
     "output_type": "stream",
     "text": [
      "\u001b[1mSex:\u001b[0m\n"
     ]
    },
    {
     "data": {
      "text/plain": [
       "Female    167805\n",
       "Male      151990\n",
       "Name: Sex, dtype: int64"
      ]
     },
     "execution_count": 193,
     "metadata": {},
     "output_type": "execute_result"
    },
    {
     "data": {
      "image/png": "[encoded data removed]",
      "text/plain": [
       "<Figure size 1600x800 with 2 Axes>"
      ]
     },
     "metadata": {},
     "output_type": "display_data"
    }
   ],
   "source": [
    "# Setting labels for categorical variables and naming new variable (order)\n",
    "labels=['Female', 'Male']\n",
    "order=heartdata['Sex'].value_counts().index\n",
    "\n",
    "# Size\n",
    "plt.figure(figsize=(16, 8))\n",
    "plt.suptitle('Distribution by sex', fontweight='heavy', fontsize='18', fontfamily='sans-serif')\n",
    "\n",
    "# Pizza Chart\n",
    "plt.subplot(1, 2, 1)\n",
    "plt.title('Pie Chart', fontweight='bold', fontsize=14, fontfamily='sans-serif')\n",
    "plt.pie(heartdata['Sex'].value_counts(), labels=labels, pctdistance=0.7, autopct='%.2f%%', wedgeprops=dict(alpha=0.8),textprops={'fontsize':12})\n",
    "centre = plt.Circle((0, 0), 0.45, fc='white')\n",
    "plt.gcf().gca().add_artist(centre)\n",
    "\n",
    "# Histogram\n",
    "countplot = plt.subplot(1, 2, 2)\n",
    "plt.title('Histogram', fontweight='bold', fontsize=14, fontfamily='sans-serif')\n",
    "ax = sns.countplot(x='Sex', data = heartdata, order=order, alpha=0.85)\n",
    "for rect in ax.patches:\n",
    "    ax.text(rect.get_x() + rect.get_width()/2, \n",
    "            rect.get_height() + 4.25,rect.get_height(), \n",
    "            horizontalalignment='center', fontsize=10, \n",
    "            bbox=dict(facecolor='none', linewidth=0.25, boxstyle='round'))\n",
    "\n",
    "plt.xlabel('Gender', fontweight='bold', fontsize=11, fontfamily='sans-serif')\n",
    "plt.ylabel('Total', fontweight='bold', fontsize=11, fontfamily='sans-serif')\n",
    "plt.xticks([0, 1], labels)\n",
    "plt.grid(axis='y', alpha=0.4)\n",
    "countplot\n",
    "\n",
    "print('\\033[1m'+'Sex:'+'\\033[0m')\n",
    "heartdata.Sex.value_counts(dropna=False)"
   ]
  },
  {
   "cell_type": "code",
   "execution_count": 198,
   "metadata": {},
   "outputs": [
    {
     "data": {
      "image/png": "[encoded data removed]",
      "text/plain": [
       "<Figure size 1600x800 with 3 Axes>"
      ]
     },
     "metadata": {},
     "output_type": "display_data"
    }
   ],
   "source": [
    "sns.set(style=\"darkgrid\")\n",
    "sns.set(rc={'figure.figsize':(16,8)})\n",
    "\n",
    "f, (ax_box1, ax_box2, ax_hist) = plt.subplots(3, sharex=True, gridspec_kw={\"height_ratios\": (.15, .15, .85)})\n",
    "colours = ['#4285f4', '#ea4335', '#fbbc05', '#34a853']\n",
    "\n",
    "sns.boxplot(x=heartdata[heartdata['HeartDisease']][\"BMI\"], ax=ax_box1, color=\"#ea4335\")\n",
    "sns.histplot(heartdata[heartdata['HeartDisease']], x=\"BMI\", ax=ax_hist, kde=True, color=\"#ea4335\")\n",
    "\n",
    "sns.boxplot(x=heartdata[~heartdata['HeartDisease']][\"BMI\"], ax=ax_box2, color='#4285f4')\n",
    "sns.histplot(heartdata[~heartdata['HeartDisease']], x=\"BMI\", ax=ax_hist, kde=True, color='#4285f4')\n",
    " \n",
    "ax_box1.set(xlabel='')\n",
    "ax_box2.set(xlabel='')\n",
    "\n",
    "plt.legend(title='', loc=2, labels=['Heart Disease', 'No Heart Disease'],bbox_to_anchor=(1.02, 1), borderaxespad=0.)\n",
    "plt.show()"
   ]
  },
  {
   "cell_type": "code",
   "execution_count": null,
   "metadata": {},
   "outputs": [],
   "source": [
    "fig, ax = plt.subplots(figsize = (14,6))\n",
    "sns.kdeplot(heartdata[heartdata[\"HeartDisease\"]=='Yes'][\"AgeCategory\"], alpha=1,shade = False, label=\"HeartDisease\", ax = ax)\n",
    "sns.kdeplot(heartdata[heartdata[\"SkinCancer\"]=='Yes'][\"AgeCategory\"], alpha=1,shade = False, label=\"SkinCancer\", ax = ax)\n",
    "sns.kdeplot(heartdata[heartdata[\"KidneyDisease\"]=='Yes'][\"AgeCategory\"], alpha=1,shade = False, label=\"KidneyDisease\", ax = ax)\n",
    "\n",
    "ax.set_xlabel(\"Age\")\n",
    "ax.set_ylabel(\"Frequency\")\n",
    "ax.legend(bbox_to_anchor=(1.02, 1), loc=2, borderaxespad=0.)\n",
    "plt.show()"
   ]
  },
  {
   "cell_type": "code",
   "execution_count": 214,
   "metadata": {},
   "outputs": [],
   "source": [
    "heartdata.replace({'Diabetic': {'No, borderline diabetes': 'No'}}, inplace=True)\n",
    "heartdata.replace({'Diabetic': {'Yes (during pregnancy)': 'Yes'}}, inplace=True)"
   ]
  },
  {
   "cell_type": "code",
   "execution_count": 219,
   "metadata": {},
   "outputs": [
    {
     "data": {
      "text/plain": [
       "<matplotlib.legend.Legend at 0x7fe78d36ea30>"
      ]
     },
     "execution_count": 219,
     "metadata": {},
     "output_type": "execute_result"
    },
    {
     "data": {
      "image/png": "[encoded data removed]",
      "text/plain": [
       "<Figure size 1000x600 with 1 Axes>"
      ]
     },
     "metadata": {},
     "output_type": "display_data"
    }
   ],
   "source": [
    "fig, ax = plt.subplots(figsize = (10,6))\n",
    "\n",
    "ax.hist(heartdata[heartdata[\"HeartDisease\"]=='No'][\"Diabetic\"], bins=4, alpha=0.8, color=\"#4285f4\", label=\"No Heart Disease\")\n",
    "ax.hist(heartdata[heartdata[\"HeartDisease\"]=='Yes'][\"Diabetic\"], bins=4, alpha=1, color=\"#ea4335\", label=\"Heart Disease\")\n",
    "\n",
    "ax.set_xlabel(\"Diabetic\")\n",
    "ax.set_ylabel(\"Frequency\")\n",
    "\n",
    "ax.legend(bbox_to_anchor=(1.02, 1), loc=2, borderaxespad=0.)\n",
    "\n",
    "### Padronizar frequencias"
   ]
  },
  {
   "cell_type": "code",
   "execution_count": 221,
   "metadata": {},
   "outputs": [
    {
     "data": {
      "image/png": "[encoded data removed]",
      "text/plain": [
       "<Figure size 1000x600 with 1 Axes>"
      ]
     },
     "metadata": {},
     "output_type": "display_data"
    }
   ],
   "source": [
    "fig, ax = plt.subplots(figsize = (10,6))\n",
    "\n",
    "ax.hist(heartdata[heartdata[\"HeartDisease\"]=='Yes'][\"GenHealth\"], bins=5, alpha=1, label=\"Heart Disease\")\n",
    "ax.hist(heartdata[heartdata[\"HeartDisease\"]=='No'][\"GenHealth\"], bins=5, alpha=0.8, label=\"No Heart Disease\")\n",
    "\n",
    "ax.set_xlabel(\"GenHealth\")\n",
    "ax.set_ylabel(\"Frequency\")\n",
    "\n",
    "ax.legend(bbox_to_anchor=(1.02, 1), loc=2, borderaxespad=0.);\n",
    "### Padronizar frequencias"
   ]
  },
  {
   "cell_type": "code",
   "execution_count": 226,
   "metadata": {},
   "outputs": [
    {
     "data": {
      "application/vnd.plotly.v1+json": {
       "config": {
        "plotlyServerURL": "https://plot.ly"
       },
       "data": [
        {
         "domain": {
          "x": [
           0,
           0.45
          ],
          "y": [
           0.9183673469387754,
           0.9999999999999999
          ]
         },
         "hole": 0.35,
         "labels": [
          "No",
          "Yes"
         ],
         "marker": {
          "colors": [
           "#4285f4",
           "#ea4335",
           "#fbbc05",
           "#34a853"
          ]
         },
         "rotation": -45,
         "textinfo": "label+percent",
         "type": "pie",
         "values": [
          292422,
          27373
         ]
        },
        {
         "domain": {
          "x": [
           0.55,
           1
          ],
          "y": [
           0.9183673469387754,
           0.9999999999999999
          ]
         },
         "hole": 0.35,
         "labels": [
          "No",
          "Yes"
         ],
         "marker": {
          "colors": [
           "#4285f4",
           "#ea4335",
           "#fbbc05",
           "#34a853"
          ]
         },
         "textinfo": "label+percent",
         "type": "pie",
         "values": [
          187887,
          131908
         ]
        },
        {
         "domain": {
          "x": [
           0,
           0.45
          ],
          "y": [
           0.7653061224489794,
           0.8469387755102039
          ]
         },
         "hole": 0.35,
         "labels": [
          "No",
          "Yes"
         ],
         "marker": {
          "colors": [
           "#4285f4",
           "#ea4335",
           "#fbbc05",
           "#34a853"
          ]
         },
         "rotation": -45,
         "textinfo": "label+percent",
         "type": "pie",
         "values": [
          298018,
          21777
         ]
        },
        {
         "domain": {
          "x": [
           0.55,
           1
          ],
          "y": [
           0.7653061224489794,
           0.8469387755102039
          ]
         },
         "hole": 0.35,
         "labels": [
          "No",
          "Yes"
         ],
         "marker": {
          "colors": [
           "#4285f4",
           "#ea4335",
           "#fbbc05",
           "#34a853"
          ]
         },
         "rotation": -45,
         "textinfo": "label+percent",
         "type": "pie",
         "values": [
          307726,
          12069
         ]
        },
        {
         "domain": {
          "x": [
           0,
           0.45
          ],
          "y": [
           0.6122448979591837,
           0.6938775510204082
          ]
         },
         "hole": 0.35,
         "labels": [
          "No",
          "Yes"
         ],
         "marker": {
          "colors": [
           "#4285f4",
           "#ea4335",
           "#fbbc05",
           "#34a853"
          ]
         },
         "textinfo": "label+percent",
         "type": "pie",
         "values": [
          275385,
          44410
         ]
        },
        {
         "domain": {
          "x": [
           0.55,
           1
          ],
          "y": [
           0.6122448979591837,
           0.6938775510204082
          ]
         },
         "hole": 0.35,
         "labels": [
          "Female",
          "Male"
         ],
         "marker": {
          "colors": [
           "#4285f4",
           "#ea4335",
           "#fbbc05",
           "#34a853"
          ]
         },
         "textinfo": "label+percent",
         "type": "pie",
         "values": [
          167805,
          151990
         ]
        },
        {
         "domain": {
          "x": [
           0,
           0.45
          ],
          "y": [
           0.4591836734693877,
           0.5408163265306122
          ]
         },
         "hole": 0.35,
         "labels": [
          "White",
          "Hispanic",
          "Black",
          "Other",
          "Asian",
          "American Indian/Alaskan Native"
         ],
         "marker": {
          "colors": [
           "#4285f4",
           "#ea4335",
           "#fbbc05",
           "#34a853"
          ]
         },
         "rotation": -45,
         "textinfo": "label+percent",
         "type": "pie",
         "values": [
          245212,
          27446,
          22939,
          10928,
          8068,
          5202
         ]
        },
        {
         "domain": {
          "x": [
           0.55,
           1
          ],
          "y": [
           0.4591836734693877,
           0.5408163265306122
          ]
         },
         "hole": 0.35,
         "labels": [
          "Yes",
          "No"
         ],
         "marker": {
          "colors": [
           "#4285f4",
           "#ea4335",
           "#fbbc05",
           "#34a853"
          ]
         },
         "textinfo": "label+percent",
         "type": "pie",
         "values": [
          247957,
          71838
         ]
        },
        {
         "domain": {
          "x": [
           0,
           0.45
          ],
          "y": [
           0.30612244897959184,
           0.3877551020408163
          ]
         },
         "hole": 0.35,
         "labels": [
          "No",
          "Yes"
         ],
         "marker": {
          "colors": [
           "#4285f4",
           "#ea4335",
           "#fbbc05",
           "#34a853"
          ]
         },
         "rotation": -45,
         "textinfo": "label+percent",
         "type": "pie",
         "values": [
          276434,
          43361
         ]
        },
        {
         "domain": {
          "x": [
           0.55,
           1
          ],
          "y": [
           0.30612244897959184,
           0.3877551020408163
          ]
         },
         "hole": 0.35,
         "labels": [
          "Very good",
          "Good",
          "Excellent",
          "Fair",
          "Poor"
         ],
         "marker": {
          "colors": [
           "#4285f4",
           "#ea4335",
           "#fbbc05",
           "#34a853"
          ]
         },
         "textinfo": "label+percent",
         "type": "pie",
         "values": [
          113858,
          93129,
          66842,
          34677,
          11289
         ]
        },
        {
         "domain": {
          "x": [
           0,
           0.45
          ],
          "y": [
           0.15306122448979592,
           0.2346938775510204
          ]
         },
         "hole": 0.35,
         "labels": [
          "No",
          "Yes"
         ],
         "marker": {
          "colors": [
           "#4285f4",
           "#ea4335",
           "#fbbc05",
           "#34a853"
          ]
         },
         "rotation": -45,
         "textinfo": "label+percent",
         "type": "pie",
         "values": [
          276923,
          42872
         ]
        },
        {
         "domain": {
          "x": [
           0.55,
           1
          ],
          "y": [
           0.15306122448979592,
           0.2346938775510204
          ]
         },
         "hole": 0.35,
         "labels": [
          "No",
          "Yes"
         ],
         "marker": {
          "colors": [
           "#4285f4",
           "#ea4335",
           "#fbbc05",
           "#34a853"
          ]
         },
         "rotation": -45,
         "textinfo": "label+percent",
         "type": "pie",
         "values": [
          308016,
          11779
         ]
        },
        {
         "domain": {
          "x": [
           0,
           0.45
          ],
          "y": [
           0,
           0.08163265306122448
          ]
         },
         "hole": 0.35,
         "labels": [
          "No",
          "Yes"
         ],
         "marker": {
          "colors": [
           "#4285f4",
           "#ea4335",
           "#fbbc05",
           "#34a853"
          ]
         },
         "rotation": -45,
         "textinfo": "label+percent",
         "type": "pie",
         "values": [
          289976,
          29819
         ]
        }
       ],
       "layout": {
        "annotations": [
         {
          "font": {
           "size": 16
          },
          "showarrow": false,
          "text": "HeartDisease",
          "x": 0.225,
          "xanchor": "center",
          "xref": "paper",
          "y": 0.9999999999999999,
          "yanchor": "bottom",
          "yref": "paper"
         },
         {
          "font": {
           "size": 16
          },
          "showarrow": false,
          "text": "Smoking",
          "x": 0.775,
          "xanchor": "center",
          "xref": "paper",
          "y": 0.9999999999999999,
          "yanchor": "bottom",
          "yref": "paper"
         },
         {
          "font": {
           "size": 16
          },
          "showarrow": false,
          "text": "AlcoholDrinking",
          "x": 0.225,
          "xanchor": "center",
          "xref": "paper",
          "y": 0.8469387755102039,
          "yanchor": "bottom",
          "yref": "paper"
         },
         {
          "font": {
           "size": 16
          },
          "showarrow": false,
          "text": "Stroke",
          "x": 0.775,
          "xanchor": "center",
          "xref": "paper",
          "y": 0.8469387755102039,
          "yanchor": "bottom",
          "yref": "paper"
         },
         {
          "font": {
           "size": 16
          },
          "showarrow": false,
          "text": "DiffWalking",
          "x": 0.225,
          "xanchor": "center",
          "xref": "paper",
          "y": 0.6938775510204082,
          "yanchor": "bottom",
          "yref": "paper"
         },
         {
          "font": {
           "size": 16
          },
          "showarrow": false,
          "text": "Sex",
          "x": 0.775,
          "xanchor": "center",
          "xref": "paper",
          "y": 0.6938775510204082,
          "yanchor": "bottom",
          "yref": "paper"
         },
         {
          "font": {
           "size": 16
          },
          "showarrow": false,
          "text": "Race",
          "x": 0.225,
          "xanchor": "center",
          "xref": "paper",
          "y": 0.5408163265306122,
          "yanchor": "bottom",
          "yref": "paper"
         },
         {
          "font": {
           "size": 16
          },
          "showarrow": false,
          "text": "Diabetic",
          "x": 0.775,
          "xanchor": "center",
          "xref": "paper",
          "y": 0.5408163265306122,
          "yanchor": "bottom",
          "yref": "paper"
         },
         {
          "font": {
           "size": 16
          },
          "showarrow": false,
          "text": "PhysicalActivity",
          "x": 0.225,
          "xanchor": "center",
          "xref": "paper",
          "y": 0.3877551020408163,
          "yanchor": "bottom",
          "yref": "paper"
         },
         {
          "font": {
           "size": 16
          },
          "showarrow": false,
          "text": "GenHealth",
          "x": 0.775,
          "xanchor": "center",
          "xref": "paper",
          "y": 0.3877551020408163,
          "yanchor": "bottom",
          "yref": "paper"
         },
         {
          "font": {
           "size": 16
          },
          "showarrow": false,
          "text": "Asthma",
          "x": 0.225,
          "xanchor": "center",
          "xref": "paper",
          "y": 0.2346938775510204,
          "yanchor": "bottom",
          "yref": "paper"
         },
         {
          "font": {
           "size": 16
          },
          "showarrow": false,
          "text": "KidneyDisease",
          "x": 0.775,
          "xanchor": "center",
          "xref": "paper",
          "y": 0.2346938775510204,
          "yanchor": "bottom",
          "yref": "paper"
         },
         {
          "font": {
           "size": 16
          },
          "showarrow": false,
          "text": "SkinCancer",
          "x": 0.225,
          "xanchor": "center",
          "xref": "paper",
          "y": 0.08163265306122448,
          "yanchor": "bottom",
          "yref": "paper"
         }
        ],
        "font": {
         "size": 14
        },
        "height": 3200,
        "showlegend": false,
        "template": {
         "data": {
          "bar": [
           {
            "error_x": {
             "color": "#2a3f5f"
            },
            "error_y": {
             "color": "#2a3f5f"
            },
            "marker": {
             "line": {
              "color": "#E5ECF6",
              "width": 0.5
             },
             "pattern": {
              "fillmode": "overlay",
              "size": 10,
              "solidity": 0.2
             }
            },
            "type": "bar"
           }
          ],
          "barpolar": [
           {
            "marker": {
             "line": {
              "color": "#E5ECF6",
              "width": 0.5
             },
             "pattern": {
              "fillmode": "overlay",
              "size": 10,
              "solidity": 0.2
             }
            },
            "type": "barpolar"
           }
          ],
          "carpet": [
           {
            "aaxis": {
             "endlinecolor": "#2a3f5f",
             "gridcolor": "white",
             "linecolor": "white",
             "minorgridcolor": "white",
             "startlinecolor": "#2a3f5f"
            },
            "baxis": {
             "endlinecolor": "#2a3f5f",
             "gridcolor": "white",
             "linecolor": "white",
             "minorgridcolor": "white",
             "startlinecolor": "#2a3f5f"
            },
            "type": "carpet"
           }
          ],
          "choropleth": [
           {
            "colorbar": {
             "outlinewidth": 0,
             "ticks": ""
            },
            "type": "choropleth"
           }
          ],
          "contour": [
           {
            "colorbar": {
             "outlinewidth": 0,
             "ticks": ""
            },
            "colorscale": [
             [
              0,
              "#0d0887"
             ],
             [
              0.1111111111111111,
              "#46039f"
             ],
             [
              0.2222222222222222,
              "#7201a8"
             ],
             [
              0.3333333333333333,
              "#9c179e"
             ],
             [
              0.4444444444444444,
              "#bd3786"
             ],
             [
              0.5555555555555556,
              "#d8576b"
             ],
             [
              0.6666666666666666,
              "#ed7953"
             ],
             [
              0.7777777777777778,
              "#fb9f3a"
             ],
             [
              0.8888888888888888,
              "#fdca26"
             ],
             [
              1,
              "#f0f921"
             ]
            ],
            "type": "contour"
           }
          ],
          "contourcarpet": [
           {
            "colorbar": {
             "outlinewidth": 0,
             "ticks": ""
            },
            "type": "contourcarpet"
           }
          ],
          "heatmap": [
           {
            "colorbar": {
             "outlinewidth": 0,
             "ticks": ""
            },
            "colorscale": [
             [
              0,
              "#0d0887"
             ],
             [
              0.1111111111111111,
              "#46039f"
             ],
             [
              0.2222222222222222,
              "#7201a8"
             ],
             [
              0.3333333333333333,
              "#9c179e"
             ],
             [
              0.4444444444444444,
              "#bd3786"
             ],
             [
              0.5555555555555556,
              "#d8576b"
             ],
             [
              0.6666666666666666,
              "#ed7953"
             ],
             [
              0.7777777777777778,
              "#fb9f3a"
             ],
             [
              0.8888888888888888,
              "#fdca26"
             ],
             [
              1,
              "#f0f921"
             ]
            ],
            "type": "heatmap"
           }
          ],
          "heatmapgl": [
           {
            "colorbar": {
             "outlinewidth": 0,
             "ticks": ""
            },
            "colorscale": [
             [
              0,
              "#0d0887"
             ],
             [
              0.1111111111111111,
              "#46039f"
             ],
             [
              0.2222222222222222,
              "#7201a8"
             ],
             [
              0.3333333333333333,
              "#9c179e"
             ],
             [
              0.4444444444444444,
              "#bd3786"
             ],
             [
              0.5555555555555556,
              "#d8576b"
             ],
             [
              0.6666666666666666,
              "#ed7953"
             ],
             [
              0.7777777777777778,
              "#fb9f3a"
             ],
             [
              0.8888888888888888,
              "#fdca26"
             ],
             [
              1,
              "#f0f921"
             ]
            ],
            "type": "heatmapgl"
           }
          ],
          "histogram": [
           {
            "marker": {
             "pattern": {
              "fillmode": "overlay",
              "size": 10,
              "solidity": 0.2
             }
            },
            "type": "histogram"
           }
          ],
          "histogram2d": [
           {
            "colorbar": {
             "outlinewidth": 0,
             "ticks": ""
            },
            "colorscale": [
             [
              0,
              "#0d0887"
             ],
             [
              0.1111111111111111,
              "#46039f"
             ],
             [
              0.2222222222222222,
              "#7201a8"
             ],
             [
              0.3333333333333333,
              "#9c179e"
             ],
             [
              0.4444444444444444,
              "#bd3786"
             ],
             [
              0.5555555555555556,
              "#d8576b"
             ],
             [
              0.6666666666666666,
              "#ed7953"
             ],
             [
              0.7777777777777778,
              "#fb9f3a"
             ],
             [
              0.8888888888888888,
              "#fdca26"
             ],
             [
              1,
              "#f0f921"
             ]
            ],
            "type": "histogram2d"
           }
          ],
          "histogram2dcontour": [
           {
            "colorbar": {
             "outlinewidth": 0,
             "ticks": ""
            },
            "colorscale": [
             [
              0,
              "#0d0887"
             ],
             [
              0.1111111111111111,
              "#46039f"
             ],
             [
              0.2222222222222222,
              "#7201a8"
             ],
             [
              0.3333333333333333,
              "#9c179e"
             ],
             [
              0.4444444444444444,
              "#bd3786"
             ],
             [
              0.5555555555555556,
              "#d8576b"
             ],
             [
              0.6666666666666666,
              "#ed7953"
             ],
             [
              0.7777777777777778,
              "#fb9f3a"
             ],
             [
              0.8888888888888888,
              "#fdca26"
             ],
             [
              1,
              "#f0f921"
             ]
            ],
            "type": "histogram2dcontour"
           }
          ],
          "mesh3d": [
           {
            "colorbar": {
             "outlinewidth": 0,
             "ticks": ""
            },
            "type": "mesh3d"
           }
          ],
          "parcoords": [
           {
            "line": {
             "colorbar": {
              "outlinewidth": 0,
              "ticks": ""
             }
            },
            "type": "parcoords"
           }
          ],
          "pie": [
           {
            "automargin": true,
            "type": "pie"
           }
          ],
          "scatter": [
           {
            "marker": {
             "colorbar": {
              "outlinewidth": 0,
              "ticks": ""
             }
            },
            "type": "scatter"
           }
          ],
          "scatter3d": [
           {
            "line": {
             "colorbar": {
              "outlinewidth": 0,
              "ticks": ""
             }
            },
            "marker": {
             "colorbar": {
              "outlinewidth": 0,
              "ticks": ""
             }
            },
            "type": "scatter3d"
           }
          ],
          "scattercarpet": [
           {
            "marker": {
             "colorbar": {
              "outlinewidth": 0,
              "ticks": ""
             }
            },
            "type": "scattercarpet"
           }
          ],
          "scattergeo": [
           {
            "marker": {
             "colorbar": {
              "outlinewidth": 0,
              "ticks": ""
             }
            },
            "type": "scattergeo"
           }
          ],
          "scattergl": [
           {
            "marker": {
             "colorbar": {
              "outlinewidth": 0,
              "ticks": ""
             }
            },
            "type": "scattergl"
           }
          ],
          "scattermapbox": [
           {
            "marker": {
             "colorbar": {
              "outlinewidth": 0,
              "ticks": ""
             }
            },
            "type": "scattermapbox"
           }
          ],
          "scatterpolar": [
           {
            "marker": {
             "colorbar": {
              "outlinewidth": 0,
              "ticks": ""
             }
            },
            "type": "scatterpolar"
           }
          ],
          "scatterpolargl": [
           {
            "marker": {
             "colorbar": {
              "outlinewidth": 0,
              "ticks": ""
             }
            },
            "type": "scatterpolargl"
           }
          ],
          "scatterternary": [
           {
            "marker": {
             "colorbar": {
              "outlinewidth": 0,
              "ticks": ""
             }
            },
            "type": "scatterternary"
           }
          ],
          "surface": [
           {
            "colorbar": {
             "outlinewidth": 0,
             "ticks": ""
            },
            "colorscale": [
             [
              0,
              "#0d0887"
             ],
             [
              0.1111111111111111,
              "#46039f"
             ],
             [
              0.2222222222222222,
              "#7201a8"
             ],
             [
              0.3333333333333333,
              "#9c179e"
             ],
             [
              0.4444444444444444,
              "#bd3786"
             ],
             [
              0.5555555555555556,
              "#d8576b"
             ],
             [
              0.6666666666666666,
              "#ed7953"
             ],
             [
              0.7777777777777778,
              "#fb9f3a"
             ],
             [
              0.8888888888888888,
              "#fdca26"
             ],
             [
              1,
              "#f0f921"
             ]
            ],
            "type": "surface"
           }
          ],
          "table": [
           {
            "cells": {
             "fill": {
              "color": "#EBF0F8"
             },
             "line": {
              "color": "white"
             }
            },
            "header": {
             "fill": {
              "color": "#C8D4E3"
             },
             "line": {
              "color": "white"
             }
            },
            "type": "table"
           }
          ]
         },
         "layout": {
          "annotationdefaults": {
           "arrowcolor": "#2a3f5f",
           "arrowhead": 0,
           "arrowwidth": 1
          },
          "autotypenumbers": "strict",
          "coloraxis": {
           "colorbar": {
            "outlinewidth": 0,
            "ticks": ""
           }
          },
          "colorscale": {
           "diverging": [
            [
             0,
             "#8e0152"
            ],
            [
             0.1,
             "#c51b7d"
            ],
            [
             0.2,
             "#de77ae"
            ],
            [
             0.3,
             "#f1b6da"
            ],
            [
             0.4,
             "#fde0ef"
            ],
            [
             0.5,
             "#f7f7f7"
            ],
            [
             0.6,
             "#e6f5d0"
            ],
            [
             0.7,
             "#b8e186"
            ],
            [
             0.8,
             "#7fbc41"
            ],
            [
             0.9,
             "#4d9221"
            ],
            [
             1,
             "#276419"
            ]
           ],
           "sequential": [
            [
             0,
             "#0d0887"
            ],
            [
             0.1111111111111111,
             "#46039f"
            ],
            [
             0.2222222222222222,
             "#7201a8"
            ],
            [
             0.3333333333333333,
             "#9c179e"
            ],
            [
             0.4444444444444444,
             "#bd3786"
            ],
            [
             0.5555555555555556,
             "#d8576b"
            ],
            [
             0.6666666666666666,
             "#ed7953"
            ],
            [
             0.7777777777777778,
             "#fb9f3a"
            ],
            [
             0.8888888888888888,
             "#fdca26"
            ],
            [
             1,
             "#f0f921"
            ]
           ],
           "sequentialminus": [
            [
             0,
             "#0d0887"
            ],
            [
             0.1111111111111111,
             "#46039f"
            ],
            [
             0.2222222222222222,
             "#7201a8"
            ],
            [
             0.3333333333333333,
             "#9c179e"
            ],
            [
             0.4444444444444444,
             "#bd3786"
            ],
            [
             0.5555555555555556,
             "#d8576b"
            ],
            [
             0.6666666666666666,
             "#ed7953"
            ],
            [
             0.7777777777777778,
             "#fb9f3a"
            ],
            [
             0.8888888888888888,
             "#fdca26"
            ],
            [
             1,
             "#f0f921"
            ]
           ]
          },
          "colorway": [
           "#636efa",
           "#EF553B",
           "#00cc96",
           "#ab63fa",
           "#FFA15A",
           "#19d3f3",
           "#FF6692",
           "#B6E880",
           "#FF97FF",
           "#FECB52"
          ],
          "font": {
           "color": "#2a3f5f"
          },
          "geo": {
           "bgcolor": "white",
           "lakecolor": "white",
           "landcolor": "#E5ECF6",
           "showlakes": true,
           "showland": true,
           "subunitcolor": "white"
          },
          "hoverlabel": {
           "align": "left"
          },
          "hovermode": "closest",
          "mapbox": {
           "style": "light"
          },
          "paper_bgcolor": "white",
          "plot_bgcolor": "#E5ECF6",
          "polar": {
           "angularaxis": {
            "gridcolor": "white",
            "linecolor": "white",
            "ticks": ""
           },
           "bgcolor": "#E5ECF6",
           "radialaxis": {
            "gridcolor": "white",
            "linecolor": "white",
            "ticks": ""
           }
          },
          "scene": {
           "xaxis": {
            "backgroundcolor": "#E5ECF6",
            "gridcolor": "white",
            "gridwidth": 2,
            "linecolor": "white",
            "showbackground": true,
            "ticks": "",
            "zerolinecolor": "white"
           },
           "yaxis": {
            "backgroundcolor": "#E5ECF6",
            "gridcolor": "white",
            "gridwidth": 2,
            "linecolor": "white",
            "showbackground": true,
            "ticks": "",
            "zerolinecolor": "white"
           },
           "zaxis": {
            "backgroundcolor": "#E5ECF6",
            "gridcolor": "white",
            "gridwidth": 2,
            "linecolor": "white",
            "showbackground": true,
            "ticks": "",
            "zerolinecolor": "white"
           }
          },
          "shapedefaults": {
           "line": {
            "color": "#2a3f5f"
           }
          },
          "ternary": {
           "aaxis": {
            "gridcolor": "white",
            "linecolor": "white",
            "ticks": ""
           },
           "baxis": {
            "gridcolor": "white",
            "linecolor": "white",
            "ticks": ""
           },
           "bgcolor": "#E5ECF6",
           "caxis": {
            "gridcolor": "white",
            "linecolor": "white",
            "ticks": ""
           }
          },
          "title": {
           "x": 0.05
          },
          "xaxis": {
           "automargin": true,
           "gridcolor": "white",
           "linecolor": "white",
           "ticks": "",
           "title": {
            "standoff": 15
           },
           "zerolinecolor": "white",
           "zerolinewidth": 2
          },
          "yaxis": {
           "automargin": true,
           "gridcolor": "white",
           "linecolor": "white",
           "ticks": "",
           "title": {
            "standoff": 15
           },
           "zerolinecolor": "white",
           "zerolinewidth": 2
          }
         }
        }
       }
      }
     },
     "metadata": {},
     "output_type": "display_data"
    }
   ],
   "source": [
    "fig = make_subplots(\n",
    "    rows=7, cols=2, subplot_titles=(\"HeartDisease\", \"Smoking\",\n",
    "                                    \"AlcoholDrinking\",\"Stroke\",\n",
    "                                    \"DiffWalking\", \"Sex\",\n",
    "                                    'Race', 'Diabetic',\n",
    "                                    'PhysicalActivity','GenHealth',\n",
    "                                    'Asthma', 'KidneyDisease',\n",
    "                                    'SkinCancer'),\n",
    "    specs=[[{\"type\": \"domain\"}, {\"type\": \"domain\"}],\n",
    "           [{\"type\": \"domain\"}, {\"type\": \"domain\"}],\n",
    "           [{\"type\": \"domain\"}, {\"type\": \"domain\"}],\n",
    "           [{\"type\": \"domain\"}, {\"type\": \"domain\"}],\n",
    "           [{\"type\": \"domain\"}, {\"type\": \"domain\"}],\n",
    "           [{\"type\": \"domain\"}, {\"type\": \"domain\"}],\n",
    "           [{\"type\": \"domain\"}, {\"type\": \"domain\"}]],\n",
    ")\n",
    "\n",
    "colours = ['#4285f4', '#ea4335', '#fbbc05', '#34a853']\n",
    "\n",
    "fig.add_trace(go.Pie(labels=np.array(heartdata['HeartDisease'].value_counts().index),\n",
    "                     values=[x for x in heartdata['HeartDisease'].value_counts()], hole=.35,\n",
    "                     textinfo='label+percent', rotation=-45, marker_colors=colours),\n",
    "              row=1, col=1)\n",
    "\n",
    "fig.add_trace(go.Pie(labels=np.array(heartdata['Smoking'].value_counts().index),\n",
    "                     values=[x for x in heartdata['Smoking'].value_counts()], hole=.35,\n",
    "                     textinfo='label+percent', marker_colors=colours),\n",
    "              row=1, col=2)\n",
    "\n",
    "fig.add_trace(go.Pie(labels=np.array(heartdata['AlcoholDrinking'].value_counts().index),\n",
    "                     values=[x for x in heartdata['AlcoholDrinking'].value_counts()], hole=.35,\n",
    "                     textinfo='label+percent', rotation=-45, marker_colors=colours),\n",
    "              row=2, col=1)\n",
    "\n",
    "fig.add_trace(go.Pie(labels=np.array(heartdata['Stroke'].value_counts().index),\n",
    "                     values=[x for x in heartdata['Stroke'].value_counts()], hole=.35,\n",
    "                     textinfo='label+percent', rotation=-45, marker_colors=colours),\n",
    "              row=2, col=2)\n",
    "\n",
    "fig.add_trace(go.Pie(labels=np.array(heartdata['DiffWalking'].value_counts().index),\n",
    "                     values=[x for x in heartdata['DiffWalking'].value_counts()], hole=.35,\n",
    "                     textinfo='label+percent', marker_colors=colours),\n",
    "              row=3, col=1)\n",
    "\n",
    "fig.add_trace(go.Pie(labels=np.array(heartdata['Sex'].value_counts().index),\n",
    "                     values=[x for x in heartdata['Sex'].value_counts()], hole=.35,\n",
    "                     textinfo='label+percent', marker_colors=colours),\n",
    "              row=3, col=2)\n",
    "\n",
    "fig.add_trace(go.Pie(labels=np.array(heartdata['Race'].value_counts().index),\n",
    "                     values=[x for x in heartdata['Race'].value_counts()], hole=.35,\n",
    "                     textinfo='label+percent', rotation=-45, marker_colors=colours),\n",
    "              row=4, col=1)\n",
    "\n",
    "fig.add_trace(go.Pie(labels=np.array(heartdata['PhysicalActivity'].value_counts().index),\n",
    "                     values=[x for x in heartdata['PhysicalActivity'].value_counts()], hole=.35,\n",
    "                     textinfo='label+percent', marker_colors=colours),\n",
    "              row=4, col=2)\n",
    "\n",
    "fig.add_trace(go.Pie(labels=np.array(heartdata['Diabetic'].value_counts().index),\n",
    "                     values=[x for x in heartdata['Diabetic'].value_counts()], hole=.35,\n",
    "                     textinfo='label+percent', rotation=-45, marker_colors=colours),\n",
    "              row=5, col=1)\n",
    "\n",
    "fig.add_trace(go.Pie(labels=np.array(heartdata['GenHealth'].value_counts().index),\n",
    "                     values=[x for x in heartdata['GenHealth'].value_counts()], hole=.35,\n",
    "                     textinfo='label+percent', marker_colors=colours),\n",
    "              row=5, col=2)\n",
    "\n",
    "fig.add_trace(go.Pie(labels=np.array(heartdata['Asthma'].value_counts().index),\n",
    "                     values=[x for x in heartdata['Asthma'].value_counts()], hole=.35,\n",
    "                     textinfo='label+percent', rotation=-45, marker_colors=colours),\n",
    "              row=6, col=1)\n",
    "\n",
    "fig.add_trace(go.Pie(labels=np.array(heartdata['KidneyDisease'].value_counts().index),\n",
    "                     values=[x for x in heartdata['KidneyDisease'].value_counts()], hole=.35,\n",
    "                     textinfo='label+percent', rotation=-45, marker_colors=colours),\n",
    "              row=6, col=2)\n",
    "\n",
    "fig.add_trace(go.Pie(labels=np.array(heartdata['SkinCancer'].value_counts().index),\n",
    "                     values=[x for x in heartdata['SkinCancer'].value_counts()], hole=.35,\n",
    "                     textinfo='label+percent', rotation=-45, marker_colors=colours),\n",
    "              row=7, col=1)\n",
    "\n",
    "\n",
    "fig.update_layout(height=3200, font=dict(size=14), showlegend=False)\n",
    "\n",
    "fig.show()"
   ]
  }
 ],
 "metadata": {
  "kernelspec": {
   "display_name": "Python 3.10.1 64-bit",
   "language": "python",
   "name": "python3"
  },
  "language_info": {
   "codemirror_mode": {
    "name": "ipython",
    "version": 3
   },
   "file_extension": ".py",
   "mimetype": "text/x-python",
   "name": "python",
   "nbconvert_exporter": "python",
   "pygments_lexer": "ipython3",
   "version": "3.10.1"
  },
  "orig_nbformat": 4,
  "vscode": {
   "interpreter": {
    "hash": "aee8b7b246df8f9039afb4144a1f6fd8d2ca17a180786b69acc140d282b71a49"
   }
  }
 },
 "nbformat": 4,
 "nbformat_minor": 2
}
